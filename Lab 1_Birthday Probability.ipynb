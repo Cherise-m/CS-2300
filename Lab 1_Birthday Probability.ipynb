{
 "cells": [
  {
   "cell_type": "markdown",
   "id": "89ab0f7f",
   "metadata": {},
   "source": [
    "# Birthday Probability \n",
    "\n",
    "In this lab the goal is to determine the probabilty of 2 poeple in a group of any size who will have a birthday on the same exact day. To achieve this *we* considered everyday of the year as a possibility. A random number between 365 is generated and then a calculation is made to determine the percentage possibility."
   ]
  },
  {
   "cell_type": "markdown",
   "id": "5c036b48",
   "metadata": {},
   "source": [
    "In the cell below, a random bithday is generated from numbers ranging from 1 to 365. This random number will be assigned to one person in the group number given. This is done for every person in the group.Returns a randomly genereated interger within the range specifed."
   ]
  },
  {
   "cell_type": "code",
   "execution_count": 1,
   "id": "b18eb076",
   "metadata": {},
   "outputs": [],
   "source": [
    "import random\n",
    "def generate_birthday():\n",
    "    \"\"\"\n",
    "    function that generates a random integer between the range of 1 to 365\n",
    "    :return: a random integer\n",
    "    \"\"\"\n",
    "    return random.randint(1,365)"
   ]
  },
  {
   "cell_type": "code",
   "execution_count": 2,
   "id": "1dbaab8e",
   "metadata": {},
   "outputs": [
    {
     "name": "stdout",
     "output_type": "stream",
     "text": [
      "Help on function generate_birthday in module __main__:\n",
      "\n",
      "generate_birthday()\n",
      "    function that generates a random integer between the range of 1 to 365\n",
      "    :return: a random integer\n",
      "\n"
     ]
    }
   ],
   "source": [
    "help(generate_birthday)"
   ]
  },
  {
   "cell_type": "markdown",
   "id": "57fd4a35",
   "metadata": {},
   "source": [
    "## Calculation Cell. \n",
    "That allows user to enter a specified group number and the number of times they want to repeat the experiment.This is achieved using Monte Carlo method.\n",
    "\n",
    "Monte Carlo simulation: using M - the number of times we generate a birthday probability in a group and N- the number of times we run the experiment."
   ]
  },
  {
   "cell_type": "code",
   "execution_count": 3,
   "id": "3b768f04",
   "metadata": {},
   "outputs": [],
   "source": [
    "def monte_carlo_method(G, N):\n",
    "    \"\"\"\n",
    "    Calculates the probability of a given number of people who have the same birthday \n",
    "    :param int G: the number of people in a group\n",
    "    :param int N: the number of rooms/ times the experiment should be repeated\n",
    "    code for finding the birthday that was not unique(shared birthday) in the array, was inspired by geeks for geeks. Link below.\n",
    "    https://www.geeksforgeeks.org/python-check-if-list-contains-all-unique-elements/\n",
    "    \"\"\"\n",
    "    rooms_with_birthdays_shared = 0\n",
    "    \n",
    "    for i in range(N):\n",
    "        birthdays = []\n",
    "            \n",
    "        for x in range(G):\n",
    "            birthdays.append(generate_birthday())\n",
    "    \n",
    "        flag = len(set(birthdays)) == len(birthdays)\n",
    "\n",
    "    \n",
    "        if not flag:\n",
    "            rooms_with_birthdays_shared += 1\n",
    "            \n",
    "    return rooms_with_birthdays_shared/N\n",
    "            \n",
    "        "
   ]
  },
  {
   "cell_type": "markdown",
   "id": "4d40fb6a",
   "metadata": {},
   "source": [
    "This method calculates different probabilities for different group sizes ranging from 0 to 100, and puts the number of people in the group and thier corresponding probabilities into a dictionary."
   ]
  },
  {
   "cell_type": "code",
   "execution_count": 4,
   "id": "3f3a7d13",
   "metadata": {},
   "outputs": [],
   "source": [
    "def calculating_smallest_size(G = 100, N= 10500):\n",
    "    \n",
    "    group_probabilities = {}\n",
    "    \n",
    "    for i in range(G):\n",
    "        group_probabilities[i] = monte_carlo_method(i, N)\n",
    "        \n",
    "    return group_probabilities\n",
    "#     print(group_probabilities)"
   ]
  },
  {
   "cell_type": "code",
   "execution_count": 5,
   "id": "9d045130",
   "metadata": {},
   "outputs": [
    {
     "data": {
      "text/plain": [
       "{0: 0.0,\n",
       " 1: 0.0,\n",
       " 2: 0.17142857142857143,\n",
       " 3: 0.8666666666666666,\n",
       " 4: 1.7142857142857144,\n",
       " 5: 2.7142857142857144,\n",
       " 6: 4.647619047619048,\n",
       " 7: 5.59047619047619,\n",
       " 8: 8.304761904761905,\n",
       " 9: 9.77142857142857,\n",
       " 10: 11.085714285714285,\n",
       " 11: 14.409523809523808,\n",
       " 12: 16.314285714285713,\n",
       " 13: 19.104761904761904,\n",
       " 14: 21.590476190476192,\n",
       " 15: 25.142857142857146,\n",
       " 16: 28.142857142857142,\n",
       " 17: 31.02857142857143,\n",
       " 18: 34.97142857142857,\n",
       " 19: 38.24761904761905,\n",
       " 20: 41.50476190476191,\n",
       " 21: 44.57142857142857,\n",
       " 22: 47.14285714285714,\n",
       " 23: 50.91428571428571,\n",
       " 24: 54.095238095238095,\n",
       " 25: 56.628571428571426,\n",
       " 26: 59.57142857142858,\n",
       " 27: 62.05714285714286,\n",
       " 28: 65.34285714285714,\n",
       " 29: 68.43809523809524,\n",
       " 30: 70.11428571428571,\n",
       " 31: 73.11428571428571,\n",
       " 32: 75.76190476190476,\n",
       " 33: 76.90476190476191,\n",
       " 34: 78.67619047619047,\n",
       " 35: 82.19999999999999,\n",
       " 36: 83.27619047619048,\n",
       " 37: 84.81904761904761,\n",
       " 38: 86.28571428571429,\n",
       " 39: 87.60952380952382,\n",
       " 40: 89.2,\n",
       " 41: 89.95238095238095,\n",
       " 42: 91.48571428571428,\n",
       " 43: 91.92380952380952,\n",
       " 44: 93.57142857142857,\n",
       " 45: 93.79047619047618,\n",
       " 46: 94.94285714285714,\n",
       " 47: 95.67619047619048,\n",
       " 48: 95.99047619047619,\n",
       " 49: 96.66666666666667,\n",
       " 50: 97.05714285714285,\n",
       " 51: 97.25714285714285,\n",
       " 52: 97.83809523809524,\n",
       " 53: 98.12380952380953,\n",
       " 54: 98.38095238095238,\n",
       " 55: 98.56190476190476,\n",
       " 56: 98.83809523809524,\n",
       " 57: 99.02857142857144,\n",
       " 58: 99.16190476190476,\n",
       " 59: 99.27619047619048,\n",
       " 60: 99.36190476190477,\n",
       " 61: 99.4952380952381,\n",
       " 62: 99.6,\n",
       " 63: 99.63809523809523,\n",
       " 64: 99.72380952380952,\n",
       " 65: 99.6952380952381,\n",
       " 66: 99.81904761904762,\n",
       " 67: 99.86666666666667,\n",
       " 68: 99.86666666666667,\n",
       " 69: 99.93333333333332,\n",
       " 70: 99.93333333333332,\n",
       " 71: 99.93333333333332,\n",
       " 72: 99.96190476190476,\n",
       " 73: 99.96190476190476,\n",
       " 74: 99.98095238095239,\n",
       " 75: 99.97142857142856,\n",
       " 76: 99.99047619047619,\n",
       " 77: 99.99047619047619,\n",
       " 78: 99.99047619047619,\n",
       " 79: 99.99047619047619,\n",
       " 80: 100.0,\n",
       " 81: 100.0,\n",
       " 82: 100.0,\n",
       " 83: 99.98095238095239,\n",
       " 84: 99.99047619047619,\n",
       " 85: 100.0,\n",
       " 86: 100.0,\n",
       " 87: 100.0,\n",
       " 88: 100.0,\n",
       " 89: 100.0,\n",
       " 90: 100.0,\n",
       " 91: 100.0,\n",
       " 92: 100.0,\n",
       " 93: 100.0,\n",
       " 94: 100.0,\n",
       " 95: 100.0,\n",
       " 96: 100.0,\n",
       " 97: 100.0,\n",
       " 98: 100.0,\n",
       " 99: 100.0}"
      ]
     },
     "execution_count": 5,
     "metadata": {},
     "output_type": "execute_result"
    }
   ],
   "source": [
    "calculating_smallest_size(100, 10500)"
   ]
  },
  {
   "cell_type": "code",
   "execution_count": 6,
   "id": "5f70e3ff",
   "metadata": {},
   "outputs": [],
   "source": [
    "def small_group():\n",
    "    smallest_size = {}\n",
    "    smallest_size = calculating_smallest_size(100,10500)\n",
    "    for i in smallest_size:\n",
    "        if smallest_size[i] >= 50:\n",
    "            print(i)\n",
    "            return i\n",
    "           "
   ]
  },
  {
   "cell_type": "markdown",
   "id": "f458fad0",
   "metadata": {},
   "source": [
    "### BenchMarking results ###\n",
    "Running on my laptop: \n",
    "Running on Rosie/cluster:\n",
    "Explanation of difference "
   ]
  },
  {
   "cell_type": "code",
   "execution_count": 7,
   "id": "707492cd",
   "metadata": {},
   "outputs": [
    {
     "name": "stdout",
     "output_type": "stream",
     "text": [
      "Wall time: 621 ms\n"
     ]
    },
    {
     "data": {
      "text/plain": [
       "41.41904761904762"
      ]
     },
     "execution_count": 7,
     "metadata": {},
     "output_type": "execute_result"
    }
   ],
   "source": [
    "%%time\n",
    "monte_carlo_method(20,10500)\n",
    "    \n",
    "    "
   ]
  },
  {
   "cell_type": "markdown",
   "id": "dd8514dc",
   "metadata": {},
   "source": [
    "CPU times: user 250 ms, sys: 0 ns, total: 250 ms\n",
    "Wall time: 249 ms\n",
    "It takes longer to run the cluster than running on my laptop, this may be because other programs could be running on the cluster. And this would make it take longer to run my code."
   ]
  },
  {
   "cell_type": "code",
   "execution_count": 8,
   "id": "a64a0186",
   "metadata": {},
   "outputs": [],
   "source": [
    "small_group()"
   ]
  },
  {
   "cell_type": "markdown",
   "id": "1fbe945a",
   "metadata": {},
   "source": [
    "## Graph ##\n",
    "Below is the graph of group size G, vs the probability of a shared birthday.The number of times this was repeated using monte carlos method: N = 10500.\n"
   ]
  },
  {
   "cell_type": "code",
   "execution_count": 9,
   "id": "ce119387",
   "metadata": {},
   "outputs": [
    {
     "data": {
      "image/png": "[encoded data removed]",
      "text/plain": [
       "<Figure size 432x288 with 1 Axes>"
      ]
     },
     "metadata": {
      "needs_background": "light"
     },
     "output_type": "display_data"
    }
   ],
   "source": [
    "from matplotlib import pyplot as plt\n",
    "G = []\n",
    "probability = []\n",
    "for x in range(101):\n",
    "    G.append(x)\n",
    "for y in range(len(G)):\n",
    "    value = monte_carlo_method(y,10000)\n",
    "    probability.append(value)\n",
    "plt.plot(G,probability)\n",
    "plt.title(\"Graph of probability\")\n",
    "plt.xlabel(\"Group sizes\")\n",
    "plt.ylabel(\"probability of shared birthdays\")\n",
    "plt.show()\n",
    "    "
   ]
  },
  {
   "cell_type": "markdown",
   "id": "f248d038",
   "metadata": {},
   "source": [
    "1.What is the probability of a group of size 20 that at least one pair has the same birthday?\n",
    "    - 41.6 % or 0.41\n",
    "2.What is the smallest group size to have a probability of greater than 50% that two people share the same birthday?\n",
    "    -23 \n",
    "3.How large of an N is necessary to provide confidence in your answer? \n",
    "    - an N value greater or equal to 10000\n",
    "4.How is this problem related to hash collisions?\n",
    "    -Hashing is when two pieces of data have the same hash value. and in this case its similar because theres a hash collision everytime 2 or more people share a birthday."
   ]
  }
 ],
 "metadata": {
  "kernelspec": {
   "display_name": "Python 3 (ipykernel)",
   "language": "python",
   "name": "python3"
  },
  "language_info": {
   "codemirror_mode": {
    "name": "ipython",
    "version": 3
   },
   "file_extension": ".py",
   "mimetype": "text/x-python",
   "name": "python",
   "nbconvert_exporter": "python",
   "pygments_lexer": "ipython3",
   "version": "3.9.7"
  }
 },
 "nbformat": 4,
 "nbformat_minor": 5
}
