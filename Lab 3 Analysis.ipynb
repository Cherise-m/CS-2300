{
 "cells": [
  {
   "cell_type": "markdown",
   "id": "56757965",
   "metadata": {},
   "source": [
    "# Lab 3 second data set anyalysis #\n",
    "This is a copy of the term frequncy methods from the main lab 3 notebook. I will be comparing the runtime of this based on the size of data of the file read in here.\n",
    "The data set used is one that contains examiner publish dates in the format yyyyMMdd and the article titles from a catalog. \n",
    "## Hypothesis ##\n",
    "size of data: 202.69 MB obtained from https://www.kaggle.com/therohk/examine-the-examiner/version/3\n",
    "because of the size I assume the data will take less time to read in than the previous dataset.\n",
    "For the turnaround times : I think they will be 10times faster than the times from the data used in the main lab 3 notebook.\n",
    "DataFrame time hypothesis 180-200ms:\n",
    "python time hypothesis 5mins - 6mins:"
   ]
  },
  {
   "cell_type": "code",
   "execution_count": 1,
   "id": "1e4c9bd8",
   "metadata": {},
   "outputs": [
    {
     "name": "stdout",
     "output_type": "stream",
     "text": [
      "Wall time: 6.47 s\n"
     ]
    }
   ],
   "source": [
    "%%time\n",
    "import sklearn.ensemble as mdl\n",
    "import pandas as pd\n",
    "import numpy as np\n",
    "from spellchecker import SpellChecker\n",
    "\n",
    "search_phrases = []\n",
    "with open('examiner-date-text.csv', encoding = 'UTF-8') as f:\n",
    "    f.readline()\n",
    "    for line in f:\n",
    "        search_phrases.append(line.split(',')[0])"
   ]
  },
  {
   "cell_type": "code",
   "execution_count": 2,
   "id": "35a5d3b4",
   "metadata": {},
   "outputs": [],
   "source": [
    "df = pd.DataFrame(search_phrases, columns=['numbers'])"
   ]
  },
  {
   "cell_type": "code",
   "execution_count": 3,
   "id": "98290e12",
   "metadata": {},
   "outputs": [],
   "source": [
    "def frequency_count_listmethod(datalist):\n",
    "    \n",
    "    term_frequency = {}\n",
    "    \n",
    "    unique_words = set(datalist)\n",
    "    for words in unique_words:\n",
    "        term_frequency[words] = datalist.count(words)\n",
    "        \n",
    "    return term_frequency"
   ]
  },
  {
   "cell_type": "code",
   "execution_count": 4,
   "id": "f79038e0",
   "metadata": {},
   "outputs": [
    {
     "name": "stdout",
     "output_type": "stream",
     "text": [
      "Wall time: 56.8 ms\n"
     ]
    }
   ],
   "source": [
    "%%time\n",
    "correct_list = df[\"numbers\"].to_list()\n",
    "# frequency_for_list = frequency_count_listmethod(correct_list)"
   ]
  },
  {
   "cell_type": "code",
   "execution_count": 5,
   "id": "89983876",
   "metadata": {},
   "outputs": [
    {
     "name": "stdout",
     "output_type": "stream",
     "text": [
      "Wall time: 693 ms\n"
     ]
    }
   ],
   "source": [
    "%%time\n",
    "frequency_for_df = df[\"numbers\"].value_counts()\n",
    "# print(frequency_for_df.head(60))"
   ]
  },
  {
   "cell_type": "markdown",
   "id": "e87c3832",
   "metadata": {},
   "source": [
    "time for DataFrame:604ms\n",
    "The time for the dataframe was actually longer than what my hypothesis had been this could be because I might have overestimated the speed since the file is smaller than the one used in the main notebook for this lab. Hence why it took a little longer to run.\n",
    "time for python list:58ms\n",
    "The time for the python list is a greater amount less than why I had hypothesised, although I did say it would take less time. It ended up taking an emensly shorter time than expected. I still feel it was consisent with my hypothesis because the time was still faster. \n",
    "The less data you are analysisng the less time it will take.because of thenrepeats in the case of the python list, however with the data frame it doesnt seem to change much. "
   ]
  }
 ],
 "metadata": {
  "kernelspec": {
   "display_name": "Python 3 (ipykernel)",
   "language": "python",
   "name": "python3"
  },
  "language_info": {
   "codemirror_mode": {
    "name": "ipython",
    "version": 3
   },
   "file_extension": ".py",
   "mimetype": "text/x-python",
   "name": "python",
   "nbconvert_exporter": "python",
   "pygments_lexer": "ipython3",
   "version": "3.9.7"
  }
 },
 "nbformat": 4,
 "nbformat_minor": 5
}
