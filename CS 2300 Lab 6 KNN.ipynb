{
 "cells": [
  {
   "cell_type": "markdown",
   "id": "1d00b8cf",
   "metadata": {},
   "source": [
    "# KNN Lab #\n"
   ]
  },
  {
   "cell_type": "code",
   "execution_count": null,
   "id": "ef3958d7",
   "metadata": {},
   "outputs": [],
   "source": [
    "sklearn.datasets.load_iris\n"
   ]
  }
 ],
 "metadata": {
  "kernelspec": {
   "display_name": "Python 3 (ipykernel)",
   "language": "python",
   "name": "python3"
  },
  "language_info": {
   "codemirror_mode": {
    "name": "ipython",
    "version": 3
   },
   "file_extension": ".py",
   "mimetype": "text/x-python",
   "name": "python",
   "nbconvert_exporter": "python",
   "pygments_lexer": "ipython3",
   "version": "3.9.7"
  }
 },
 "nbformat": 4,
 "nbformat_minor": 5
}
